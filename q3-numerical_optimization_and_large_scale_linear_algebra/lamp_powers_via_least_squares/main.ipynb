{
 "cells": [
  {
   "cell_type": "markdown",
   "id": "4f922126",
   "metadata": {},
   "source": [
    "# Lamp Powers via Least Squares\n",
    "\n",
    "> *Numerical Optimization and Large Scale Linear Algebra*  \n",
    "> *MSc in Data Science, Department of Informatics*  \n",
    "> *Athens University of Economics and Business*\n",
    "\n",
    "---\n",
    "\n",
    "<p style='text-align: justify;'>A set of $n$ lamps illuminates an area that we divide into $m$ regions (pixels). We let $l_{i}$ denote the lighting level in region $i$, so the $m$-vector $l$ gives the illumination levels across all regions. We let $p_{i}$ denote the power at which lamp $i$ operates, so the $n$-vector $p$ gives the set of lamp powers. The vector of illumination levels is a linear function of the lamp powers, so we have $l=Ap$ for some $m \\times n$ matrix $A$. The $j$th column of $A$ gives the illumination pattern for lamp $j$, i.e., the illumination when lamp $j$ has power $1$ and all other lamps are off. We will assume that $A$ has linearly independent columns (and therefore is tall). The $i$th row of $A$ gives the sensitivity of pixel $i$ to the $n$ lamp powers. Your mission is to find lamp powers that result in a desired illumination pattern $l^{des}$, such as $l^{des}=a·1$, ($1$ the vector with all ones) which is uniform illumination with value across the area. In other words, we seek $p$ so that $Ap≈l^{des}$. We can use least squares to find $\\hat{p}$ that minimizes the sum square deviation from the desired illumination, $\\|Ap-l^{des}\\|_{2}^{2}$. As an example use $n=10$ lamps, the area being an $25\\times25$ grid with $m=625$ pixels, each $1m^{2}$. The $(x,y)$ positions of lamps and their heigh above floor are:</p>\n",
    "\n",
    "<p style='text-align: center;'>$\\{(4.1, 20.4, 4), (14.1, 21.3, 3.5), (22.6, 17.1, 6), (5.5, 12.3, 4), (12.2, 9.7, 4)\\}$</p>\n",
    "<p style='text-align: center;'>$\\{(15.3, 13.8, 6), (21.3, 10.5, 5.5), (3.9, 3.3, 5), (13.1, 4.3, 5), (20.3, 4.2, 4.5)\\}$</p>\n",
    "\n",
    "<p style='text-align: justify;'>The illumination decays with an inverse square law, so $A_{ij}$ proportional to $d^{-2}_{ij}$, where $d_{ij}$ is the $(3-D)$ distance between the center of the pixel and the lamp position. The matrix $A$ is scaled so that when all lamps have power one, the average illumination level is one. The desired illumination pattern is $1$, i.e., uniform with value $1$.</p>\n",
    "\n",
    "<p style='text-align: justify;'><i>Question 1</i><br>Create two graphs to show the illumination of the two patterns.<br> The first with all lamps set to $1$ and the other that minimize the sum square deviation with a desired uniform illumination.</p>\n",
    "\n",
    "<p style='text-align: justify;'><i>Question 2</i><br>What are the RMS errors in both cases?</p>\n",
    "\n",
    "<p style='text-align: justify;'><i>Question 3</i><br>Create the histogram of patch illumination values for all lamp powers one, and for lamp powers found by LS.</p>\n",
    "\n",
    "> ***Introduction to Applied Linear Algebra:*** *Vectors, Matrices, and Least Squares*  \n",
    "> *Book by Stephen Boyd and Lieven Vandenberghe*  \n",
    "> *Cambridge University Press*\n",
    "\n",
    "## *Table of Contents*\n",
    "\n",
    "- [*1. Libraries*](#libraries)\n",
    "- [*2. Case 1: Lamps Have Power 1*](#case_one)\n",
    "    - [*2.1. Centroids*](#centroids)\n",
    "    - [*2.2. Matrix A*](#matrix_a)\n",
    "    - [*2.3. Initial Lamp Powers*](#initial_lamp_powers)\n",
    "    - [*2.4. Scaled Matrix A*](#scaled_matrix_a)\n",
    "    - [*2.5. RMSE*](#rmse_one)\n",
    "    - [*2.6. Illumination Pattern*](#illumination_pattern_one)\n",
    "- [*3. Case 2: Lamp Powers Found by LS*](#case_two)\n",
    "    - [*3.1. Lamp Powers Estimates*](#lamp_powers_estimates)\n",
    "    - [*3.2. RMSE*](#rmse_two)\n",
    "    - [*3.3. Illumination Pattern*](#illumination_pattern_two)\n",
    "- [*4. Histograms*](#histograms)\n",
    "\n",
    "---"
   ]
  },
  {
   "cell_type": "markdown",
   "id": "dbf695f5",
   "metadata": {},
   "source": [
    "## Libraries <a class='anchor' id='libraries'></a>"
   ]
  },
  {
   "cell_type": "code",
   "execution_count": 1,
   "id": "7763c6b0",
   "metadata": {},
   "outputs": [],
   "source": [
    "import numpy as np\n",
    "import pandas as pd\n",
    "import matplotlib.pyplot as plt\n",
    "import seaborn as sns\n",
    "%matplotlib inline\n",
    "\n",
    "import math\n",
    "from sklearn.metrics import mean_squared_error, confusion_matrix, accuracy_score, roc_auc_score\n",
    "from scipy.optimize import nnls \n",
    "from scipy.stats import shapiro\n",
    "from sklearn.preprocessing import MinMaxScaler\n",
    "\n",
    "import warnings\n",
    "warnings.filterwarnings('ignore')"
   ]
  },
  {
   "cell_type": "markdown",
   "id": "c858e5a6",
   "metadata": {},
   "source": [
    "## Case 1: Lamps Have Power 1 <a class='anchor' id='case_one'></a>\n",
    "\n",
    "### *Centroids* <a class='anchor' id='centroids'></a>\n",
    "\n",
    "- First, we need to calculate the coordinates of the center of each pixel\n",
    "- Since all pixels are on the ground, their heights will be zero\n",
    "- The area is a $25\\times25$ grid with $625$ pixels, each $1m^{2}$\n",
    "- Thus, the centers will be in the half of the pixels dimensions (e.g. $0.5m\\times0.5m$)\n",
    "\n",
    "##### *Calculate the center of each region (pixel)*"
   ]
  },
  {
   "cell_type": "code",
   "execution_count": 2,
   "id": "29726ca8",
   "metadata": {},
   "outputs": [
    {
     "name": "stdout",
     "output_type": "stream",
     "text": [
      "The dimensions of the area are 25x25.\n",
      "The dimensions of each pixel in the area are 1x1.\n",
      "\n",
      "np.shape(centroids): (25, 25, 3)\n"
     ]
    }
   ],
   "source": [
    "# initialize the dimensions of the area and the pixels\n",
    "area_length, area_width, pixel_dim = 25, 25, 1\n",
    "\n",
    "# function to calculate centroids\n",
    "def calculate_centroids(area_length, area_width, pixel_dim):\n",
    "    \n",
    "    # print dimensions\n",
    "    print(f'The dimensions of the area are {area_length}x{area_width}.')\n",
    "    print(f'The dimensions of each pixel in the area are {pixel_dim}x{pixel_dim}.', end='\\n\\n')\n",
    "    \n",
    "    # initialize an empty list\n",
    "    # to store the coordinates of the center of each pixel\n",
    "    centroids = list()\n",
    "    \n",
    "    # loop (horizontally)\n",
    "    for x in range(area_length):\n",
    "        \n",
    "        # append an empty list\n",
    "        # in which we will store the (x,y,z) coordinates\n",
    "        centroids.append(list())\n",
    "        \n",
    "        # loop (vertically)\n",
    "        for y in range(area_width):\n",
    "            \n",
    "            # append the coordinates of the pixel in loop\n",
    "            # (length, width, height)\n",
    "            centroids[x].append((x+pixel_dim/2, y+pixel_dim/2, 0))\n",
    "    \n",
    "    # print shape\n",
    "    print(f'np.shape(centroids): {np.shape(centroids)}')\n",
    "            \n",
    "    return centroids\n",
    "\n",
    "# execute the function\n",
    "centroids = calculate_centroids(area_length, area_width, pixel_dim)"
   ]
  },
  {
   "cell_type": "markdown",
   "id": "9772b440",
   "metadata": {},
   "source": [
    "### *Matrix A* <a class='anchor' id='matrix_a'></a>\n",
    "\n",
    "- The $j$th column of $A$ gives the illumination pattern for lamp $j$, i.e., the illumination when lamp $j$ has power $1$ and all other lamps are off\n",
    "- We will assume that $A$ has linearly independent columns (and therefore is tall)\n",
    "- The $i$th row of $A$ gives the sensitivity of pixel $i$ to the $n$ lamp powers\n",
    "- Therefore, matrix A will end up with a shape $625 \\times 10$\n",
    "- The illumination decays with an inverse square law, so $A_{ij}$ is proportional to $d^{-2}_{ij}$, the $(3D)$ distance between the center of the pixel and the lamp position\n",
    "\n",
    "##### *Define the position (x,y) and height (z) of each lamp*"
   ]
  },
  {
   "cell_type": "code",
   "execution_count": 3,
   "id": "08efe984",
   "metadata": {},
   "outputs": [],
   "source": [
    "# define the coordinates of each lamp\n",
    "lamps = [(4.1, 20.4, 4), (14.1, 21.3, 3.5), (22.6, 17.1, 6), (5.5, 12.3, 4), (12.2, 9.7, 4),\n",
    "         (15.3, 13.8, 6), (21.3, 10.5, 5.5), (3.9, 3.3, 5), (13.1, 4.3, 5), (20.3, 4.2, 4.5)]"
   ]
  },
  {
   "cell_type": "markdown",
   "id": "c14c0073",
   "metadata": {},
   "source": [
    "##### *Compute matrix A*"
   ]
  },
  {
   "cell_type": "code",
   "execution_count": 4,
   "id": "25dfbb36",
   "metadata": {},
   "outputs": [
    {
     "name": "stdout",
     "output_type": "stream",
     "text": [
      "The shape of A is (625, 10).\n"
     ]
    }
   ],
   "source": [
    "# function to compute A matrix\n",
    "def compute_A_matrix(centroids, lamps):\n",
    "\n",
    "    # initialize a list\n",
    "    # to store A\n",
    "    A = list()\n",
    "    \n",
    "    # loop through each row\n",
    "    for each_row in centroids:\n",
    "        \n",
    "        # loop through each pixel of each row\n",
    "        for each_pixel in each_row:\n",
    "            \n",
    "            # initialize a list\n",
    "            # to store the sensitivy of the pixel in loop from each lamp\n",
    "            temp = list()\n",
    "            \n",
    "            # loop through lamps\n",
    "            for each_lamp in lamps:\n",
    "                \n",
    "                # calculate euclidean distance between pixel and lamp\n",
    "                # it corresponds to the illumination level of the pixel in loop from the lamp in loop\n",
    "                distance = math.pow((np.linalg.norm(np.asarray(each_pixel) - np.asarray(each_lamp))),-2)\n",
    "                temp.append(distance)\n",
    "                \n",
    "            A.append(temp)\n",
    "        \n",
    "    # preview the shape of A\n",
    "    print(f'The shape of A is {np.shape(A)}.')\n",
    "    \n",
    "    return A\n",
    "\n",
    "# execute the function\n",
    "A = compute_A_matrix(centroids, lamps)"
   ]
  },
  {
   "cell_type": "markdown",
   "id": "758949a4",
   "metadata": {},
   "source": [
    "### *Initial Lamp Powers* <a class='anchor' id='initial_lamp_powers'></a>\n",
    "\n",
    "- We let $p_{i}$ denote the power at which lamp $i$ operates, so the $n$-vector $p$ gives the set of lamp powers\n",
    "- We let $l_{i}$ denote the lighting level in region $i$, so the $m$-vector $l$ gives the illumination levels across all regions\n",
    "- The vector of illumination levels is a linear function of the lamp powers, so we have $l=Ap$ for some $m\\times{n}$ matrix $A$\n",
    "\n",
    "##### *Initialize the power of each lamp and calculate the average illumination level*"
   ]
  },
  {
   "cell_type": "code",
   "execution_count": 5,
   "id": "f4dfdb08",
   "metadata": {},
   "outputs": [
    {
     "name": "stdout",
     "output_type": "stream",
     "text": [
      "The average illumination level when all lamps have power 1 is 0.09596080098089171.\n"
     ]
    }
   ],
   "source": [
    "# initial power of each lamp\n",
    "# all lamps have power = 1\n",
    "P_init = np.ones((10,))\n",
    "\n",
    "# illumination levels of each pixel\n",
    "# AxP_init = (625x10)x(10,) = (625,)\n",
    "L = np.dot(A, P_init)\n",
    "\n",
    "# preview the avg illumination level\n",
    "# when all lamps have power = 1\n",
    "print(f'The average illumination level when all lamps have power 1 is {np.mean(L)}.')"
   ]
  },
  {
   "cell_type": "markdown",
   "id": "19918cb2",
   "metadata": {},
   "source": [
    "### *Scaled Matrix A* <a class='anchor' id='scaled_matrix_a'></a>\n",
    "\n",
    "- The matrix $A$ is scaled so that when all lamps have power one, the average illumination level is one.\n",
    "\n",
    "##### *Scale matrix A so that when all lamps have power 1, the average illumination level is one*"
   ]
  },
  {
   "cell_type": "code",
   "execution_count": 6,
   "id": "88d708e0",
   "metadata": {},
   "outputs": [
    {
     "name": "stdout",
     "output_type": "stream",
     "text": [
      "The weight is 9.420921769912342.\n",
      "\n",
      "The average illumination level when all lamps have power 1 is 0.9999999999999998.\n"
     ]
    }
   ],
   "source": [
    "# find the weight needed to scale A\n",
    "weight = (1 - np.mean(L)) / np.mean(L)\n",
    "print(f'The weight is {weight}.', end='\\n\\n')\n",
    "\n",
    "# create the scaled A\n",
    "A_scaled = np.asarray(A) + (np.asarray(A) * weight)\n",
    "\n",
    "# illumination levels of each pixels\n",
    "# when all lamps have power = 1 and matrix A is scaled\n",
    "L_scaled = np.dot(A_scaled, P_init)\n",
    "\n",
    "# preview the avg illumination level\n",
    "# when all lamps have power = 1 and matrix A is scaled\n",
    "print(f'The average illumination level when all lamps have power 1 is {np.mean(L_scaled)}.')"
   ]
  },
  {
   "cell_type": "markdown",
   "id": "f4d7e112",
   "metadata": {},
   "source": [
    "### *RMSE* <a class='anchor' id='rmse_one'></a>\n",
    "\n",
    "##### *Compute the RMSE of the predictions*"
   ]
  },
  {
   "cell_type": "code",
   "execution_count": 7,
   "id": "fcfe7c64",
   "metadata": {},
   "outputs": [
    {
     "name": "stdout",
     "output_type": "stream",
     "text": [
      "The RMSE of the predictions is 0.2417413185380788.\n"
     ]
    }
   ],
   "source": [
    "# compute RMSE\n",
    "rmse = np.sqrt(mean_squared_error((np.ones(625,)), np.dot(A_scaled, P_init)))\n",
    "\n",
    "# preview error\n",
    "print(f'The RMSE of the predictions is {rmse}.')"
   ]
  },
  {
   "cell_type": "markdown",
   "id": "9cac94a9",
   "metadata": {},
   "source": [
    "### *Illumination Pattern* <a class='anchor' id='illumination_pattern_one'></a>\n",
    "\n",
    "##### *Create a graph to show the illumination pattern when all lamps have power 1*"
   ]
  },
  {
   "cell_type": "code",
   "execution_count": 8,
   "id": "051eeaa3",
   "metadata": {},
   "outputs": [
    {
     "data": {
      "image/png": "[encoded data removed]",
      "text/plain": [
       "<Figure size 800x600 with 2 Axes>"
      ]
     },
     "metadata": {},
     "output_type": "display_data"
    }
   ],
   "source": [
    "# create ground\n",
    "ground = np.reshape(L_scaled, (25,25)) \n",
    "\n",
    "# plot the illumination pattern heatmap\n",
    "plt.figure(figsize=(8,6),dpi=100,facecolor='white')\n",
    "sns.heatmap(ground, cmap='Spectral_r')\n",
    "plt.xticks([])\n",
    "plt.yticks([])\n",
    "plt.title('Illumination Pattern When All Lamps Have Power 1')\n",
    "plt.savefig('./images/illumination_pattern_lamp_powers_one.svg')\n",
    "plt.show()"
   ]
  },
  {
   "cell_type": "markdown",
   "id": "72290586",
   "metadata": {},
   "source": [
    "## Case 2: Lamp Powers Found by Least Squares <a class='anchor' id='case_two'></a>\n",
    "\n",
    "### *Lamp Powers Estimates* <a class='anchor' id='lamp_powers_estimates'></a>\n",
    "\n",
    "- We need to find lamp powers that result in a desired illumination pattern $l^{des}$, such as $l^{des}=a·1$, ($1$ the vector with all ones)\n",
    "- The desired illumination pattern is $1$, i.e., uniform with value $1$ across the area\n",
    "- In other words, we seek $p$ so that $Ap≈l^{des}$\n",
    "- We can use least squares to find $\\hat{p}$ that minimizes the sum square deviation from the desired illumination, $\\|Ap-l^{des}\\|_{2}^{2}$\n",
    "\n",
    "##### *Estimate the lamp powers needed to achieve the desired illumination pattern using Least Squares*"
   ]
  },
  {
   "cell_type": "code",
   "execution_count": 9,
   "id": "5897150f",
   "metadata": {},
   "outputs": [
    {
     "name": "stdout",
     "output_type": "stream",
     "text": [
      "Lamp 01: 1.4621101798266405\n",
      "Lamp 02: 0.787974326213186\n",
      "Lamp 03: 2.9664104724031883\n",
      "Lamp 04: 0.7435804226879912\n",
      "Lamp 05: 0.08317333038945018\n",
      "Lamp 06: 0.21263944602371737\n",
      "Lamp 07: 0.21218407925533053\n",
      "Lamp 08: 2.0511481462520007\n",
      "Lamp 09: 0.9076031545599353\n",
      "Lamp 10: 1.4722246425160115\n"
     ]
    }
   ],
   "source": [
    "# ideally, all regions should have the same illumination level\n",
    "L_des = np.ones((625,))\n",
    "\n",
    "# calculate P estimates (estimated power of each lamp)\n",
    "# based on the non-negative least squares method\n",
    "P_hat = nnls(A_scaled, L_des)[0]\n",
    "\n",
    "# preview the estimated power of each lamp\n",
    "for i in range(10):\n",
    "    print(f'Lamp 0{i+1}: {P_hat[i]}' if i < 9 else f'Lamp {i+1}: {P_hat[i]}')"
   ]
  },
  {
   "cell_type": "markdown",
   "id": "d434b334",
   "metadata": {},
   "source": [
    "### *RMSE* <a class='anchor' id='rmse_two'></a>\n",
    "\n",
    "##### *Compute the RMSE of the predictions*"
   ]
  },
  {
   "cell_type": "code",
   "execution_count": 10,
   "id": "6cf0fddb",
   "metadata": {},
   "outputs": [
    {
     "name": "stdout",
     "output_type": "stream",
     "text": [
      "The RMSE of the predictions is 0.1403904813427606.\n"
     ]
    }
   ],
   "source": [
    "# compute RMSE\n",
    "rmse_ls = np.sqrt(mean_squared_error((np.ones(625,)), np.dot(A_scaled, P_hat)))\n",
    "\n",
    "# preview error\n",
    "print(f'The RMSE of the predictions is {rmse_ls}.')"
   ]
  },
  {
   "cell_type": "markdown",
   "id": "8779ea47",
   "metadata": {},
   "source": [
    "### *Illumination Pattern* <a class='anchor' id='illumination_pattern_two'></a>\n",
    "\n",
    "##### *Create a graph to show the illumination pattern with lamp powers found by LS*"
   ]
  },
  {
   "cell_type": "code",
   "execution_count": 11,
   "id": "c4d6ea02",
   "metadata": {},
   "outputs": [
    {
     "data": {
      "image/png": "[encoded data removed]",
      "text/plain": [
       "<Figure size 800x600 with 2 Axes>"
      ]
     },
     "metadata": {},
     "output_type": "display_data"
    }
   ],
   "source": [
    "# compute the illumination levels\n",
    "# using the lamp powers estimated through least squares\n",
    "L_ls = np.dot(A_scaled, P_hat)\n",
    "\n",
    "# create ground\n",
    "ground_ls = np.reshape(L_ls, (25,25))\n",
    "\n",
    "# plot the illumination pattern heatmap\n",
    "plt.figure(figsize=(8,6),dpi=100,facecolor='white')\n",
    "sns.heatmap(ground_ls, cmap='Spectral_r')\n",
    "plt.xticks([])\n",
    "plt.yticks([])\n",
    "plt.title('Illumination Pattern With Lamp Powers Found by LS')\n",
    "plt.savefig('./images/illumination_pattern_lamp_powers_found_by_ls.svg')\n",
    "plt.show()"
   ]
  },
  {
   "cell_type": "markdown",
   "id": "e5caccdf",
   "metadata": {},
   "source": [
    "## Histograms <a class='anchor' id='histograms'></a>\n",
    "\n",
    "##### *Create the histogram of patch illumination values for all lamp powers 1, and for lamp powers found by LS*"
   ]
  },
  {
   "cell_type": "code",
   "execution_count": 12,
   "id": "e90c328a",
   "metadata": {},
   "outputs": [
    {
     "data": {
      "image/png": "[encoded data removed]",
      "text/plain": [
       "<Figure size 1200x600 with 2 Axes>"
      ]
     },
     "metadata": {},
     "output_type": "display_data"
    }
   ],
   "source": [
    "fig, ax = plt.subplots(1,2,figsize=(12,6),dpi=100,facecolor='white',sharey=True)\n",
    "# plot for lamp powers 1\n",
    "sns.histplot(L_scaled, bins=25, ax=ax[0])\n",
    "ax[0].set_xlabel('Intensity')\n",
    "ax[0].set_ylabel('Number of pixels')\n",
    "ax[0].set_ylim(0,120)\n",
    "ax[0].set_title('Lamp powers equal to one')\n",
    "# plot for lamp powers found by LS\n",
    "sns.histplot(L_ls, bins=17, ax=ax[1])\n",
    "ax[1].set_xlabel('Intensity')\n",
    "ax[1].set_ylabel('Number of pixels')\n",
    "ax[1].set_title('Lamp powers found by LS')\n",
    "plt.tight_layout(pad=3)\n",
    "plt.savefig('./images/illumination_values_histogram.svg')\n",
    "plt.show()"
   ]
  },
  {
   "cell_type": "markdown",
   "id": "7071abd5",
   "metadata": {},
   "source": [
    "---\n",
    "\n",
    "*Thank you!*\n",
    "\n",
    "---"
   ]
  }
 ],
 "metadata": {
  "kernelspec": {
   "display_name": "Python 3 (ipykernel)",
   "language": "python",
   "name": "python3"
  },
  "language_info": {
   "codemirror_mode": {
    "name": "ipython",
    "version": 3
   },
   "file_extension": ".py",
   "mimetype": "text/x-python",
   "name": "python",
   "nbconvert_exporter": "python",
   "pygments_lexer": "ipython3",
   "version": "3.9.7"
  }
 },
 "nbformat": 4,
 "nbformat_minor": 5
}
