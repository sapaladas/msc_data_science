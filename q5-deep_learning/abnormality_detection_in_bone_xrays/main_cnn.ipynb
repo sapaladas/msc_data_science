{
 "cells": [
  {
   "cell_type": "markdown",
   "metadata": {
    "id": "ysRt3YiQOPve"
   },
   "source": [
    "# Abnormality Detection in Bone X-Rays\n",
    "\n",
    "> *Deep Learning*  \n",
    "> *MSc in Data Science, Department of Informatics*  \n",
    "> *Athens University of Economics and Business*\n",
    "\n",
    "---\n",
    "\n",
    "##### *Description*\n",
    "\n",
    "<p style='text-align: justify;'>Given a study containing X-Ray images, build a deep learning model that decides if the study is normal or abnormal. You must use at least 2 different architectures, one with your own CNN model (e.g., you can use a model similar to the CNN of the previous project) and one with a popular pre-trained CNN model (e.g., VGG-19, ResNet, etc.). Use the MURA dataset to train and evaluate your models. More information about the task and the dataset can be found at <a href=\"https://stanfordmlgroup.github.io/competitions/mura/\">https://stanfordmlgroup.github.io/competitions/mura/</a>. To download the dataset you must first fill out a form.</p>\n",
    "\n",
    "You can find the Google Colab link [here.](https://colab.research.google.com/drive/1BGue9oV1t5Kqw0FikC7ex4ytF4mmZCTc)\n",
    "\n",
    "## *Table of Contents*\n",
    "\n",
    "- [*1. Introduction*](#introduction)\n",
    "    - [*1.1. Libraries*](#libraries)\n",
    "    - [*1.2. Data*](#data)\n",
    "    - [*1.3. Data Preparation*](#data_preparation)\n",
    "    - [*1.4. Data Preprocessing*](#data_preprocessing)\n",
    "- [*2. CNN*](#cnn)\n",
    "    - [*2.1. Model Architecture*](#model_architecture)\n",
    "    - [*2.2. Metrics*](#metrics)\n",
    "    - [*2.3. Callbacks*](#callbacks)\n",
    "    - [*2.4. Model Training*](#model_training)\n",
    "    - [*2.5. Model Evaluation*](#model_evaluation)\n",
    "\n",
    "---"
   ]
  },
  {
   "cell_type": "markdown",
   "metadata": {
    "id": "Ji6F8UEDO2K3"
   },
   "source": [
    "# *Introduction*\n",
    "\n",
    "## *Libraries*\n",
    "\n",
    "- *Install any required packages*\n",
    "- *Import libraries*\n",
    "\n",
    "##### *Install packages*"
   ]
  },
  {
   "cell_type": "code",
   "execution_count": 1,
   "metadata": {
    "id": "eMnCziVIEPFC"
   },
   "outputs": [],
   "source": [
    "!pip install -U tensorflow-addons -q"
   ]
  },
  {
   "cell_type": "markdown",
   "metadata": {
    "id": "eor13F-oPP3j"
   },
   "source": [
    "##### *Import libraries*"
   ]
  },
  {
   "cell_type": "code",
   "execution_count": 2,
   "metadata": {
    "colab": {
     "base_uri": "https://localhost:8080/"
    },
    "id": "BMHn5AL_-6VP",
    "outputId": "cb896288-6107-4f41-9ac4-0ce77d9a2383"
   },
   "outputs": [
    {
     "name": "stdout",
     "output_type": "stream",
     "text": [
      "Tensorflow version: 2.11.0\n"
     ]
    }
   ],
   "source": [
    "import pandas as pd\n",
    "import numpy as np\n",
    "import matplotlib.pyplot as plt\n",
    "import seaborn as sns\n",
    "%matplotlib inline\n",
    "\n",
    "import gc\n",
    "import zipfile\n",
    "from sklearn.model_selection import train_test_split\n",
    "import time\n",
    "import random\n",
    "\n",
    "import os\n",
    "os.environ['TF_CPP_MIN_LOG_LEVEL'] = '3'\n",
    "\n",
    "import tensorflow as tf\n",
    "from tensorflow.random import set_seed\n",
    "from tensorflow.keras import backend as K # importing Keras backend (by default it is Tensorflow)\n",
    "\n",
    "from tensorflow.keras.preprocessing.image import ImageDataGenerator\n",
    "from tensorflow.keras.optimizers import Adam\n",
    "from tensorflow.keras.applications import VGG19\n",
    "from tensorflow.keras.layers import Input, Conv2D, BatchNormalization, MaxPool2D, Dropout, Flatten, Dense\n",
    "from tensorflow.keras.models import Model\n",
    "from tensorflow.keras.callbacks import EarlyStopping, ReduceLROnPlateau, ModelCheckpoint\n",
    "from tensorflow.keras.applications.vgg19 import preprocess_input\n",
    "from tensorflow.keras.regularizers import l2\n",
    "from tensorflow.keras.utils import plot_model\n",
    "\n",
    "from tensorflow.keras.metrics import BinaryAccuracy, Precision, Recall, AUC\n",
    "from tensorflow_addons.metrics import CohenKappa\n",
    "\n",
    "from sklearn.metrics import precision_score, recall_score, f1_score, accuracy_score, roc_auc_score, cohen_kappa_score\n",
    "\n",
    "print(f'Tensorflow version: {tf.__version__}')"
   ]
  },
  {
   "cell_type": "markdown",
   "metadata": {
    "id": "g_o302kU8X_W"
   },
   "source": [
    "##### *Initialize some variables needed in order to have reproducible experiments*"
   ]
  },
  {
   "cell_type": "code",
   "execution_count": 3,
   "metadata": {
    "id": "GXU16lIX8Ylp"
   },
   "outputs": [],
   "source": [
    "SEED = 2023\n",
    "np.random.seed(SEED) # seed for numpy to have reproducible experiments\n",
    "set_seed(SEED) # seed for Tensorflow to have reproducible experiments"
   ]
  },
  {
   "cell_type": "markdown",
   "metadata": {
    "id": "Qb7L_usD8ch5"
   },
   "source": [
    "##### *Define a function to clean up the model*"
   ]
  },
  {
   "cell_type": "code",
   "execution_count": 4,
   "metadata": {
    "id": "uzESeOiJptb6"
   },
   "outputs": [],
   "source": [
    "def clean_up(model):\n",
    "    K.clear_session()\n",
    "    del model\n",
    "    gc.collect()"
   ]
  },
  {
   "cell_type": "markdown",
   "metadata": {
    "id": "-kgXL3L6LtHu"
   },
   "source": [
    "## *Data*\n",
    "\n",
    "<p style='text-align: justify;'>The MURA dataset is a large-scale dataset of musculoskeletal radiographs that was released by Stanford University in 2017. The acronym \"MURA\" stands for \"musculoskeletal radiographs\" and the dataset contains over 40,000 digital X-ray images covering seven different body parts, including the wrist, elbow, shoulder, finger, hip, knee, and ankle.</p>\n",
    "\n",
    "<p style='text-align: justify;'>The purpose of the MURA dataset is to enable the development of machine learning models that can automatically detect abnormalities in musculoskeletal radiographs. This is a challenging task because abnormalities can be subtle and difficult for even trained human radiologists to detect.</p>\n",
    "\n",
    "<p style='text-align: justify;'>The MURA dataset has become a popular benchmark for evaluating the performance of deep learning models in musculoskeletal radiograph analysis. It has been used in a number of research studies and competitions to develop and test algorithms for detecting fractures, dislocations, and other abnormalities in X-ray images.</p>\n",
    "\n",
    "##### *Download MURA dataset*"
   ]
  },
  {
   "cell_type": "code",
   "execution_count": 5,
   "metadata": {
    "colab": {
     "base_uri": "https://localhost:8080/"
    },
    "id": "yr52Z7GyTeOj",
    "outputId": "7db70014-4784-4026-9c28-07adc2e25ef4"
   },
   "outputs": [
    {
     "name": "stdout",
     "output_type": "stream",
     "text": [
      "--2023-03-26 17:17:38--  https://cs.stanford.edu/group/mlgroup/MURA-v1.1.zip\n",
      "Resolving cs.stanford.edu (cs.stanford.edu)... 171.64.64.64\n",
      "Connecting to cs.stanford.edu (cs.stanford.edu)|171.64.64.64|:443... connected.\n",
      "HTTP request sent, awaiting response... 200 OK\n",
      "Length: 3380245855 (3.1G) [application/zip]\n",
      "Saving to: ‘MURA-v1.1.zip.1’\n",
      "\n",
      "MURA-v1.1.zip.1     100%[===================>]   3.15G  13.5MB/s    in 4m 2s   \n",
      "\n",
      "2023-03-26 17:21:40 (13.3 MB/s) - ‘MURA-v1.1.zip.1’ saved [3380245855/3380245855]\n",
      "\n"
     ]
    }
   ],
   "source": [
    "# download the data in zip format\n",
    "!wget 'https://cs.stanford.edu/group/mlgroup/MURA-v1.1.zip'"
   ]
  },
  {
   "cell_type": "markdown",
   "metadata": {
    "id": "qDIU_oSiRYaT"
   },
   "source": [
    "##### *Unzip the dataset*"
   ]
  },
  {
   "cell_type": "code",
   "execution_count": 6,
   "metadata": {
    "id": "HEBaa990RYty"
   },
   "outputs": [],
   "source": [
    "# what's the filename?\n",
    "filename = 'MURA-v1.1.zip'\n",
    "\n",
    "# unzip the file\n",
    "with zipfile.ZipFile(filename, 'r') as zip_ref:\n",
    "    zip_ref.extractall()"
   ]
  },
  {
   "cell_type": "markdown",
   "metadata": {
    "id": "ivk5RkWkRg0V"
   },
   "source": [
    "##### *Get the filepath for the training and test sets*"
   ]
  },
  {
   "cell_type": "code",
   "execution_count": 7,
   "metadata": {
    "id": "RYmxjoqlTeMy"
   },
   "outputs": [],
   "source": [
    "# what's the filepath?\n",
    "filepath = 'MURA-v1.1'\n",
    "\n",
    "# get train and test set filepaths\n",
    "train_set_filepath = os.path.join(filepath, 'train_image_paths.csv')\n",
    "test_set_filepath = os.path.join(filepath, 'valid_image_paths.csv')"
   ]
  },
  {
   "cell_type": "markdown",
   "metadata": {
    "id": "EObxSRZJCbTS"
   },
   "source": [
    "## *Data Preparation*\n",
    "\n",
    "*In this step, we will take the following actions:*\n",
    "\n",
    "- *1. Load training and test data using the filepaths obtained above*\n",
    "- *2. Split training data into training (80%) and validation (20%) sets*\n",
    "\n",
    "##### *Define a function to load the data and create any required columns*"
   ]
  },
  {
   "cell_type": "code",
   "execution_count": 8,
   "metadata": {
    "id": "RSUEH84fGJT8"
   },
   "outputs": [],
   "source": [
    "def load_data(filepath:str):\n",
    "\n",
    "    # load data into a dataframe\n",
    "    df = pd.read_csv(filepath, header=None, names=['image_path'])\n",
    "\n",
    "    # create a description of the study of each image\n",
    "    df['description'] = df.image_path.apply(lambda x: '_'.join(x.split('/')[2:5])[3:])\n",
    "\n",
    "    # get the type of each study (e.g., elbow, shoulder, etc.)\n",
    "    df['type'] = df.description.apply(lambda x: x.split('_')[0])\n",
    "\n",
    "    # get the patient code of each study\n",
    "    df['patient'] = df.description.apply(lambda x: x.split('_')[1])\n",
    "\n",
    "    # get the code of each study\n",
    "    df['study'] = df.description.apply(lambda x: x.split('_')[2])\n",
    "\n",
    "    # get the opinion of each study\n",
    "    df['opinion'] = df.description.apply(lambda x: x.split('_')[3])\n",
    "\n",
    "    # create the label\n",
    "    df['label'] = np.where(df.opinion == 'positive',1,0)\n",
    "\n",
    "    return df"
   ]
  },
  {
   "cell_type": "markdown",
   "metadata": {
    "id": "ps6MAjBMCpZo"
   },
   "source": [
    "##### *Load training data*"
   ]
  },
  {
   "cell_type": "code",
   "execution_count": 9,
   "metadata": {
    "colab": {
     "base_uri": "https://localhost:8080/",
     "height": 224
    },
    "id": "DQYIOkAFNAq7",
    "outputId": "21fad428-3950-4175-9d05-63aeeb623a2b"
   },
   "outputs": [
    {
     "name": "stdout",
     "output_type": "stream",
     "text": [
      "train_set.shape: (36808, 7)\n"
     ]
    },
    {
     "data": {
      "text/html": [
       "\n",
       "  <div id=\"df-deed53e4-5c2d-43b5-a887-ba2ac134a84b\">\n",
       "    <div class=\"colab-df-container\">\n",
       "      <div>\n",
       "<style scoped>\n",
       "    .dataframe tbody tr th:only-of-type {\n",
       "        vertical-align: middle;\n",
       "    }\n",
       "\n",
       "    .dataframe tbody tr th {\n",
       "        vertical-align: top;\n",
       "    }\n",
       "\n",
       "    .dataframe thead th {\n",
       "        text-align: right;\n",
       "    }\n",
       "</style>\n",
       "<table border=\"1\" class=\"dataframe\">\n",
       "  <thead>\n",
       "    <tr style=\"text-align: right;\">\n",
       "      <th></th>\n",
       "      <th>image_path</th>\n",
       "      <th>description</th>\n",
       "      <th>type</th>\n",
       "      <th>patient</th>\n",
       "      <th>study</th>\n",
       "      <th>opinion</th>\n",
       "      <th>label</th>\n",
       "    </tr>\n",
       "  </thead>\n",
       "  <tbody>\n",
       "    <tr>\n",
       "      <th>0</th>\n",
       "      <td>MURA-v1.1/train/XR_SHOULDER/patient00001/study...</td>\n",
       "      <td>SHOULDER_patient00001_study1_positive</td>\n",
       "      <td>SHOULDER</td>\n",
       "      <td>patient00001</td>\n",
       "      <td>study1</td>\n",
       "      <td>positive</td>\n",
       "      <td>1</td>\n",
       "    </tr>\n",
       "    <tr>\n",
       "      <th>1</th>\n",
       "      <td>MURA-v1.1/train/XR_SHOULDER/patient00001/study...</td>\n",
       "      <td>SHOULDER_patient00001_study1_positive</td>\n",
       "      <td>SHOULDER</td>\n",
       "      <td>patient00001</td>\n",
       "      <td>study1</td>\n",
       "      <td>positive</td>\n",
       "      <td>1</td>\n",
       "    </tr>\n",
       "    <tr>\n",
       "      <th>2</th>\n",
       "      <td>MURA-v1.1/train/XR_SHOULDER/patient00001/study...</td>\n",
       "      <td>SHOULDER_patient00001_study1_positive</td>\n",
       "      <td>SHOULDER</td>\n",
       "      <td>patient00001</td>\n",
       "      <td>study1</td>\n",
       "      <td>positive</td>\n",
       "      <td>1</td>\n",
       "    </tr>\n",
       "    <tr>\n",
       "      <th>3</th>\n",
       "      <td>MURA-v1.1/train/XR_SHOULDER/patient00002/study...</td>\n",
       "      <td>SHOULDER_patient00002_study1_positive</td>\n",
       "      <td>SHOULDER</td>\n",
       "      <td>patient00002</td>\n",
       "      <td>study1</td>\n",
       "      <td>positive</td>\n",
       "      <td>1</td>\n",
       "    </tr>\n",
       "    <tr>\n",
       "      <th>4</th>\n",
       "      <td>MURA-v1.1/train/XR_SHOULDER/patient00002/study...</td>\n",
       "      <td>SHOULDER_patient00002_study1_positive</td>\n",
       "      <td>SHOULDER</td>\n",
       "      <td>patient00002</td>\n",
       "      <td>study1</td>\n",
       "      <td>positive</td>\n",
       "      <td>1</td>\n",
       "    </tr>\n",
       "  </tbody>\n",
       "</table>\n",
       "</div>\n",
       "      <button class=\"colab-df-convert\" onclick=\"convertToInteractive('df-deed53e4-5c2d-43b5-a887-ba2ac134a84b')\"\n",
       "              title=\"Convert this dataframe to an interactive table.\"\n",
       "              style=\"display:none;\">\n",
       "        \n",
       "  <svg xmlns=\"http://www.w3.org/2000/svg\" height=\"24px\"viewBox=\"0 0 24 24\"\n",
       "       width=\"24px\">\n",
       "    <path d=\"M0 0h24v24H0V0z\" fill=\"none\"/>\n",
       "    <path d=\"M18.56 5.44l.94 2.06.94-2.06 2.06-.94-2.06-.94-.94-2.06-.94 2.06-2.06.94zm-11 1L8.5 8.5l.94-2.06 2.06-.94-2.06-.94L8.5 2.5l-.94 2.06-2.06.94zm10 10l.94 2.06.94-2.06 2.06-.94-2.06-.94-.94-2.06-.94 2.06-2.06.94z\"/><path d=\"M17.41 7.96l-1.37-1.37c-.4-.4-.92-.59-1.43-.59-.52 0-1.04.2-1.43.59L10.3 9.45l-7.72 7.72c-.78.78-.78 2.05 0 2.83L4 21.41c.39.39.9.59 1.41.59.51 0 1.02-.2 1.41-.59l7.78-7.78 2.81-2.81c.8-.78.8-2.07 0-2.86zM5.41 20L4 18.59l7.72-7.72 1.47 1.35L5.41 20z\"/>\n",
       "  </svg>\n",
       "      </button>\n",
       "      \n",
       "  <style>\n",
       "    .colab-df-container {\n",
       "      display:flex;\n",
       "      flex-wrap:wrap;\n",
       "      gap: 12px;\n",
       "    }\n",
       "\n",
       "    .colab-df-convert {\n",
       "      background-color: #E8F0FE;\n",
       "      border: none;\n",
       "      border-radius: 50%;\n",
       "      cursor: pointer;\n",
       "      display: none;\n",
       "      fill: #1967D2;\n",
       "      height: 32px;\n",
       "      padding: 0 0 0 0;\n",
       "      width: 32px;\n",
       "    }\n",
       "\n",
       "    .colab-df-convert:hover {\n",
       "      background-color: #E2EBFA;\n",
       "      box-shadow: 0px 1px 2px rgba(60, 64, 67, 0.3), 0px 1px 3px 1px rgba(60, 64, 67, 0.15);\n",
       "      fill: #174EA6;\n",
       "    }\n",
       "\n",
       "    [theme=dark] .colab-df-convert {\n",
       "      background-color: #3B4455;\n",
       "      fill: #D2E3FC;\n",
       "    }\n",
       "\n",
       "    [theme=dark] .colab-df-convert:hover {\n",
       "      background-color: #434B5C;\n",
       "      box-shadow: 0px 1px 3px 1px rgba(0, 0, 0, 0.15);\n",
       "      filter: drop-shadow(0px 1px 2px rgba(0, 0, 0, 0.3));\n",
       "      fill: #FFFFFF;\n",
       "    }\n",
       "  </style>\n",
       "\n",
       "      <script>\n",
       "        const buttonEl =\n",
       "          document.querySelector('#df-deed53e4-5c2d-43b5-a887-ba2ac134a84b button.colab-df-convert');\n",
       "        buttonEl.style.display =\n",
       "          google.colab.kernel.accessAllowed ? 'block' : 'none';\n",
       "\n",
       "        async function convertToInteractive(key) {\n",
       "          const element = document.querySelector('#df-deed53e4-5c2d-43b5-a887-ba2ac134a84b');\n",
       "          const dataTable =\n",
       "            await google.colab.kernel.invokeFunction('convertToInteractive',\n",
       "                                                     [key], {});\n",
       "          if (!dataTable) return;\n",
       "\n",
       "          const docLinkHtml = 'Like what you see? Visit the ' +\n",
       "            '<a target=\"_blank\" href=https://colab.research.google.com/notebooks/data_table.ipynb>data table notebook</a>'\n",
       "            + ' to learn more about interactive tables.';\n",
       "          element.innerHTML = '';\n",
       "          dataTable['output_type'] = 'display_data';\n",
       "          await google.colab.output.renderOutput(dataTable, element);\n",
       "          const docLink = document.createElement('div');\n",
       "          docLink.innerHTML = docLinkHtml;\n",
       "          element.appendChild(docLink);\n",
       "        }\n",
       "      </script>\n",
       "    </div>\n",
       "  </div>\n",
       "  "
      ],
      "text/plain": [
       "                                          image_path  \\\n",
       "0  MURA-v1.1/train/XR_SHOULDER/patient00001/study...   \n",
       "1  MURA-v1.1/train/XR_SHOULDER/patient00001/study...   \n",
       "2  MURA-v1.1/train/XR_SHOULDER/patient00001/study...   \n",
       "3  MURA-v1.1/train/XR_SHOULDER/patient00002/study...   \n",
       "4  MURA-v1.1/train/XR_SHOULDER/patient00002/study...   \n",
       "\n",
       "                             description      type       patient   study  \\\n",
       "0  SHOULDER_patient00001_study1_positive  SHOULDER  patient00001  study1   \n",
       "1  SHOULDER_patient00001_study1_positive  SHOULDER  patient00001  study1   \n",
       "2  SHOULDER_patient00001_study1_positive  SHOULDER  patient00001  study1   \n",
       "3  SHOULDER_patient00002_study1_positive  SHOULDER  patient00002  study1   \n",
       "4  SHOULDER_patient00002_study1_positive  SHOULDER  patient00002  study1   \n",
       "\n",
       "    opinion  label  \n",
       "0  positive      1  \n",
       "1  positive      1  \n",
       "2  positive      1  \n",
       "3  positive      1  \n",
       "4  positive      1  "
      ]
     },
     "execution_count": 9,
     "metadata": {},
     "output_type": "execute_result"
    }
   ],
   "source": [
    "# load training data\n",
    "train_set = load_data(train_set_filepath)\n",
    "\n",
    "# shape\n",
    "print(f'train_set.shape: {train_set.shape}')\n",
    "\n",
    "# preview\n",
    "train_set.head()"
   ]
  },
  {
   "cell_type": "markdown",
   "metadata": {
    "id": "1RxZkC9nAv19"
   },
   "source": [
    "##### *Visualize the distribution of normal and abnormal case studies according to each type of the fracture in training set*"
   ]
  },
  {
   "cell_type": "code",
   "execution_count": 10,
   "metadata": {
    "colab": {
     "base_uri": "https://localhost:8080/",
     "height": 536
    },
    "id": "Cu11LAsL_JQ1",
    "outputId": "4b02a4b8-c938-4b14-9dff-9769c396e9c0"
   },
   "outputs": [
    {
     "data": {
      "image/png": "[encoded data removed]",
      "text/plain": [
       "<Figure size 1200x600 with 1 Axes>"
      ]
     },
     "metadata": {
      "needs_background": "light"
     },
     "output_type": "display_data"
    }
   ],
   "source": [
    "plt.figure(figsize=(12,6),dpi=100)\n",
    "ax = sns.countplot(data=train_set, x=train_set['type'].sort_values(), hue=train_set['label'])\n",
    "ax.bar_label(ax.containers[0], padding=1)\n",
    "ax.bar_label(ax.containers[1], padding=1)\n",
    "plt.xlabel(None)\n",
    "plt.ylabel(None)\n",
    "plt.yticks([])\n",
    "plt.title('Number of normal and abnormal case studies per body part')\n",
    "plt.legend(loc=0, labels=['Normal','Abnormal'])\n",
    "plt.savefig('distribution_of_case_studies_per_body_part_train.svg')\n",
    "plt.show()"
   ]
  },
  {
   "cell_type": "markdown",
   "metadata": {
    "id": "HRPW39Z5Cr39"
   },
   "source": [
    "##### *Load test data*"
   ]
  },
  {
   "cell_type": "code",
   "execution_count": 11,
   "metadata": {
    "colab": {
     "base_uri": "https://localhost:8080/",
     "height": 224
    },
    "id": "jutdi860QzsL",
    "outputId": "71bf1290-ca37-4107-f150-0a21a7f52023"
   },
   "outputs": [
    {
     "name": "stdout",
     "output_type": "stream",
     "text": [
      "test_set.shape: (3197, 7)\n"
     ]
    },
    {
     "data": {
      "text/html": [
       "\n",
       "  <div id=\"df-6e4a76bd-6ac2-48ef-a5a9-74241733032b\">\n",
       "    <div class=\"colab-df-container\">\n",
       "      <div>\n",
       "<style scoped>\n",
       "    .dataframe tbody tr th:only-of-type {\n",
       "        vertical-align: middle;\n",
       "    }\n",
       "\n",
       "    .dataframe tbody tr th {\n",
       "        vertical-align: top;\n",
       "    }\n",
       "\n",
       "    .dataframe thead th {\n",
       "        text-align: right;\n",
       "    }\n",
       "</style>\n",
       "<table border=\"1\" class=\"dataframe\">\n",
       "  <thead>\n",
       "    <tr style=\"text-align: right;\">\n",
       "      <th></th>\n",
       "      <th>image_path</th>\n",
       "      <th>description</th>\n",
       "      <th>type</th>\n",
       "      <th>patient</th>\n",
       "      <th>study</th>\n",
       "      <th>opinion</th>\n",
       "      <th>label</th>\n",
       "    </tr>\n",
       "  </thead>\n",
       "  <tbody>\n",
       "    <tr>\n",
       "      <th>0</th>\n",
       "      <td>MURA-v1.1/valid/XR_WRIST/patient11185/study1_p...</td>\n",
       "      <td>WRIST_patient11185_study1_positive</td>\n",
       "      <td>WRIST</td>\n",
       "      <td>patient11185</td>\n",
       "      <td>study1</td>\n",
       "      <td>positive</td>\n",
       "      <td>1</td>\n",
       "    </tr>\n",
       "    <tr>\n",
       "      <th>1</th>\n",
       "      <td>MURA-v1.1/valid/XR_WRIST/patient11185/study1_p...</td>\n",
       "      <td>WRIST_patient11185_study1_positive</td>\n",
       "      <td>WRIST</td>\n",
       "      <td>patient11185</td>\n",
       "      <td>study1</td>\n",
       "      <td>positive</td>\n",
       "      <td>1</td>\n",
       "    </tr>\n",
       "    <tr>\n",
       "      <th>2</th>\n",
       "      <td>MURA-v1.1/valid/XR_WRIST/patient11185/study1_p...</td>\n",
       "      <td>WRIST_patient11185_study1_positive</td>\n",
       "      <td>WRIST</td>\n",
       "      <td>patient11185</td>\n",
       "      <td>study1</td>\n",
       "      <td>positive</td>\n",
       "      <td>1</td>\n",
       "    </tr>\n",
       "    <tr>\n",
       "      <th>3</th>\n",
       "      <td>MURA-v1.1/valid/XR_WRIST/patient11185/study1_p...</td>\n",
       "      <td>WRIST_patient11185_study1_positive</td>\n",
       "      <td>WRIST</td>\n",
       "      <td>patient11185</td>\n",
       "      <td>study1</td>\n",
       "      <td>positive</td>\n",
       "      <td>1</td>\n",
       "    </tr>\n",
       "    <tr>\n",
       "      <th>4</th>\n",
       "      <td>MURA-v1.1/valid/XR_WRIST/patient11186/study1_p...</td>\n",
       "      <td>WRIST_patient11186_study1_positive</td>\n",
       "      <td>WRIST</td>\n",
       "      <td>patient11186</td>\n",
       "      <td>study1</td>\n",
       "      <td>positive</td>\n",
       "      <td>1</td>\n",
       "    </tr>\n",
       "  </tbody>\n",
       "</table>\n",
       "</div>\n",
       "      <button class=\"colab-df-convert\" onclick=\"convertToInteractive('df-6e4a76bd-6ac2-48ef-a5a9-74241733032b')\"\n",
       "              title=\"Convert this dataframe to an interactive table.\"\n",
       "              style=\"display:none;\">\n",
       "        \n",
       "  <svg xmlns=\"http://www.w3.org/2000/svg\" height=\"24px\"viewBox=\"0 0 24 24\"\n",
       "       width=\"24px\">\n",
       "    <path d=\"M0 0h24v24H0V0z\" fill=\"none\"/>\n",
       "    <path d=\"M18.56 5.44l.94 2.06.94-2.06 2.06-.94-2.06-.94-.94-2.06-.94 2.06-2.06.94zm-11 1L8.5 8.5l.94-2.06 2.06-.94-2.06-.94L8.5 2.5l-.94 2.06-2.06.94zm10 10l.94 2.06.94-2.06 2.06-.94-2.06-.94-.94-2.06-.94 2.06-2.06.94z\"/><path d=\"M17.41 7.96l-1.37-1.37c-.4-.4-.92-.59-1.43-.59-.52 0-1.04.2-1.43.59L10.3 9.45l-7.72 7.72c-.78.78-.78 2.05 0 2.83L4 21.41c.39.39.9.59 1.41.59.51 0 1.02-.2 1.41-.59l7.78-7.78 2.81-2.81c.8-.78.8-2.07 0-2.86zM5.41 20L4 18.59l7.72-7.72 1.47 1.35L5.41 20z\"/>\n",
       "  </svg>\n",
       "      </button>\n",
       "      \n",
       "  <style>\n",
       "    .colab-df-container {\n",
       "      display:flex;\n",
       "      flex-wrap:wrap;\n",
       "      gap: 12px;\n",
       "    }\n",
       "\n",
       "    .colab-df-convert {\n",
       "      background-color: #E8F0FE;\n",
       "      border: none;\n",
       "      border-radius: 50%;\n",
       "      cursor: pointer;\n",
       "      display: none;\n",
       "      fill: #1967D2;\n",
       "      height: 32px;\n",
       "      padding: 0 0 0 0;\n",
       "      width: 32px;\n",
       "    }\n",
       "\n",
       "    .colab-df-convert:hover {\n",
       "      background-color: #E2EBFA;\n",
       "      box-shadow: 0px 1px 2px rgba(60, 64, 67, 0.3), 0px 1px 3px 1px rgba(60, 64, 67, 0.15);\n",
       "      fill: #174EA6;\n",
       "    }\n",
       "\n",
       "    [theme=dark] .colab-df-convert {\n",
       "      background-color: #3B4455;\n",
       "      fill: #D2E3FC;\n",
       "    }\n",
       "\n",
       "    [theme=dark] .colab-df-convert:hover {\n",
       "      background-color: #434B5C;\n",
       "      box-shadow: 0px 1px 3px 1px rgba(0, 0, 0, 0.15);\n",
       "      filter: drop-shadow(0px 1px 2px rgba(0, 0, 0, 0.3));\n",
       "      fill: #FFFFFF;\n",
       "    }\n",
       "  </style>\n",
       "\n",
       "      <script>\n",
       "        const buttonEl =\n",
       "          document.querySelector('#df-6e4a76bd-6ac2-48ef-a5a9-74241733032b button.colab-df-convert');\n",
       "        buttonEl.style.display =\n",
       "          google.colab.kernel.accessAllowed ? 'block' : 'none';\n",
       "\n",
       "        async function convertToInteractive(key) {\n",
       "          const element = document.querySelector('#df-6e4a76bd-6ac2-48ef-a5a9-74241733032b');\n",
       "          const dataTable =\n",
       "            await google.colab.kernel.invokeFunction('convertToInteractive',\n",
       "                                                     [key], {});\n",
       "          if (!dataTable) return;\n",
       "\n",
       "          const docLinkHtml = 'Like what you see? Visit the ' +\n",
       "            '<a target=\"_blank\" href=https://colab.research.google.com/notebooks/data_table.ipynb>data table notebook</a>'\n",
       "            + ' to learn more about interactive tables.';\n",
       "          element.innerHTML = '';\n",
       "          dataTable['output_type'] = 'display_data';\n",
       "          await google.colab.output.renderOutput(dataTable, element);\n",
       "          const docLink = document.createElement('div');\n",
       "          docLink.innerHTML = docLinkHtml;\n",
       "          element.appendChild(docLink);\n",
       "        }\n",
       "      </script>\n",
       "    </div>\n",
       "  </div>\n",
       "  "
      ],
      "text/plain": [
       "                                          image_path  \\\n",
       "0  MURA-v1.1/valid/XR_WRIST/patient11185/study1_p...   \n",
       "1  MURA-v1.1/valid/XR_WRIST/patient11185/study1_p...   \n",
       "2  MURA-v1.1/valid/XR_WRIST/patient11185/study1_p...   \n",
       "3  MURA-v1.1/valid/XR_WRIST/patient11185/study1_p...   \n",
       "4  MURA-v1.1/valid/XR_WRIST/patient11186/study1_p...   \n",
       "\n",
       "                          description   type       patient   study   opinion  \\\n",
       "0  WRIST_patient11185_study1_positive  WRIST  patient11185  study1  positive   \n",
       "1  WRIST_patient11185_study1_positive  WRIST  patient11185  study1  positive   \n",
       "2  WRIST_patient11185_study1_positive  WRIST  patient11185  study1  positive   \n",
       "3  WRIST_patient11185_study1_positive  WRIST  patient11185  study1  positive   \n",
       "4  WRIST_patient11186_study1_positive  WRIST  patient11186  study1  positive   \n",
       "\n",
       "   label  \n",
       "0      1  \n",
       "1      1  \n",
       "2      1  \n",
       "3      1  \n",
       "4      1  "
      ]
     },
     "execution_count": 11,
     "metadata": {},
     "output_type": "execute_result"
    }
   ],
   "source": [
    "# load test data\n",
    "test_set = load_data(test_set_filepath)\n",
    "\n",
    "# shape\n",
    "print(f'test_set.shape: {test_set.shape}')\n",
    "\n",
    "# preview\n",
    "test_set.head()"
   ]
  },
  {
   "cell_type": "markdown",
   "metadata": {
    "id": "ZGiNseft6ue-"
   },
   "source": [
    "##### *Define a function to split training data into train (80%) and validation (20%) sets*"
   ]
  },
  {
   "cell_type": "code",
   "execution_count": 12,
   "metadata": {
    "id": "PpT4zz1K--9H"
   },
   "outputs": [],
   "source": [
    "def train_validation_split(dataset:pd.DataFrame):\n",
    "\n",
    "    # define x and y\n",
    "    x = dataset.drop(columns='label')\n",
    "    y = dataset.label\n",
    "\n",
    "    # split into training and validation sets\n",
    "    x_train, x_valid, y_train, y_valid = train_test_split(x,\n",
    "                                                          y,\n",
    "                                                          test_size=0.2,\n",
    "                                                          shuffle=True,\n",
    "                                                          stratify=dataset[['label','type']],\n",
    "                                                          random_state=1)\n",
    "    \n",
    "    # concat x and y sets\n",
    "    train_set = pd.concat([x_train, y_train], axis=1)\n",
    "    valid_set = pd.concat([x_valid, y_valid], axis=1)\n",
    "\n",
    "    # preview the sizes\n",
    "    print(f'train_set.shape: {train_set.shape}')\n",
    "    print(f'valid_set.shape: {valid_set.shape}')\n",
    "\n",
    "    return train_set, valid_set"
   ]
  },
  {
   "cell_type": "markdown",
   "metadata": {
    "id": "9RWl2wrbTWhI"
   },
   "source": [
    "##### *Split training data into train (80%) and validation (20%) sets*"
   ]
  },
  {
   "cell_type": "code",
   "execution_count": 13,
   "metadata": {
    "colab": {
     "base_uri": "https://localhost:8080/"
    },
    "id": "y0XzVYsD9Pqw",
    "outputId": "72a0e990-0357-4891-b18f-4af4fc4aeb30"
   },
   "outputs": [
    {
     "name": "stdout",
     "output_type": "stream",
     "text": [
      "train_set.shape: (29446, 7)\n",
      "valid_set.shape: (7362, 7)\n"
     ]
    }
   ],
   "source": [
    "# execute function\n",
    "train_set, valid_set = train_validation_split(train_set)"
   ]
  },
  {
   "cell_type": "markdown",
   "metadata": {
    "id": "W6tDNAdghfbP"
   },
   "source": [
    "##### *Visualize the distribution of the case studies according to each type of the fracture in training and validation sets*"
   ]
  },
  {
   "cell_type": "code",
   "execution_count": 14,
   "metadata": {
    "colab": {
     "base_uri": "https://localhost:8080/",
     "height": 536
    },
    "id": "qKxaMMi5Y3nX",
    "outputId": "abb0803b-8f0e-4d25-f8a3-c2a9460e519f"
   },
   "outputs": [
    {
     "data": {
      "image/png": "[encoded data removed]",
      "text/plain": [
       "<Figure size 1200x600 with 1 Axes>"
      ]
     },
     "metadata": {
      "needs_background": "light"
     },
     "output_type": "display_data"
    }
   ],
   "source": [
    "plt.figure(figsize=(12,6),dpi=100)\n",
    "ax = sns.countplot(data=train_set, x=train_set['type'].sort_values(), color='lightblue', label='Train set')\n",
    "ax.bar_label(ax.containers[0], padding=1)\n",
    "ax = sns.countplot(data=valid_set, x=valid_set['type'].sort_values(), color='orange', label='Validation set')\n",
    "ax.bar_label(ax.containers[1], padding=1)\n",
    "plt.xlabel(None)\n",
    "plt.ylabel(None)\n",
    "plt.yticks([])\n",
    "plt.title('Number of case studies per body part')\n",
    "plt.legend()\n",
    "plt.savefig('number_of_case_studies_per_body_part_train.svg')\n",
    "plt.show()"
   ]
  },
  {
   "cell_type": "markdown",
   "metadata": {
    "id": "1ztYB1bVI3Gc"
   },
   "source": [
    "## *Data Preprocessing*\n",
    "\n",
    "- *MURA dataset of the bone abnormalities consist of the large variety of the diﬀerent pictures with the diﬀerent formats and sizes*\n",
    "- *Thus, one of the problems is the necessity to preprocess the images and make the data more homogeneous*\n",
    "- *For this reason, we will take the following image preprocessing steps*\n",
    "- *We will resize the images to a consistent size (224x224), since standardizing image size is important for training machine learning models*\n",
    "- *We will augment the dataset using the following data augmentation approaches:*\n",
    "  - *Random rotation of the images up to 30 degrees*\n",
    "  - *Randomly changing brightness in the range 80-120 per cent*\n",
    "  - *Random flipping the images horizontally*\n",
    "  - *Randomly scaling in the range 95-130 per cent*\n",
    "- *In this step, we will use `tf.keras.preprocessing.image.ImageDataGenerator`*\n",
    "- *This will generate batches of tensor image data with real-time data augmentation*\n",
    "- *We will apply all the aforementioned transformations only in the training set*\n",
    "- *The only transformation that we will also apply to both validation and test sets is resizing the image*\n",
    "- *The reason is to avoid data leakage and introducing bias into the models.*\n",
    "\n",
    "##### *ImageDataGenerator for training data*"
   ]
  },
  {
   "cell_type": "code",
   "execution_count": 15,
   "metadata": {
    "colab": {
     "base_uri": "https://localhost:8080/"
    },
    "id": "IxjucrfhFqk2",
    "outputId": "2029b1d0-75ac-48b8-a80a-0ea168d0dbc5"
   },
   "outputs": [
    {
     "name": "stdout",
     "output_type": "stream",
     "text": [
      "Found 29446 validated image filenames.\n"
     ]
    }
   ],
   "source": [
    "# create ImageDataGenerator object\n",
    "train_image_data_gen = ImageDataGenerator(\n",
    "    rotation_range=30,\n",
    "    brightness_range=(0.8,1.2),\n",
    "    horizontal_flip=True,\n",
    "    rescale=random.uniform(0.95,1.3), # select random number between 0.95 and 1.3\n",
    "    preprocessing_function=preprocess_input\n",
    ")\n",
    "\n",
    "# generate images\n",
    "train_data_gen = train_image_data_gen.flow_from_dataframe(\n",
    "    train_set,\n",
    "    x_col='image_path',\n",
    "    y_col='label',\n",
    "    target_size=(224,224), # the dimensions to which all images found will be resized\n",
    "    class_mode='raw', # numpy array of values in y_col column, need to use this if values in y_col are of type int\n",
    "    batch_size=64, # size of the batches of data\n",
    "    shuffle=True,\n",
    "    seed=SEED\n",
    ")"
   ]
  },
  {
   "cell_type": "markdown",
   "metadata": {
    "id": "m6XqrGYSArKU"
   },
   "source": [
    "##### *ImageDataGenerator for validation data*"
   ]
  },
  {
   "cell_type": "code",
   "execution_count": 16,
   "metadata": {
    "colab": {
     "base_uri": "https://localhost:8080/"
    },
    "id": "TywtLmyBAsgO",
    "outputId": "f7106917-7183-406b-f7ef-a9ab864c344e"
   },
   "outputs": [
    {
     "name": "stdout",
     "output_type": "stream",
     "text": [
      "Found 7362 validated image filenames.\n"
     ]
    }
   ],
   "source": [
    "# create ImageDataGenerator object\n",
    "valid_image_data_gen = ImageDataGenerator(\n",
    "    preprocessing_function=preprocess_input\n",
    ")\n",
    "\n",
    "# generate images\n",
    "valid_data_gen = valid_image_data_gen.flow_from_dataframe(\n",
    "    valid_set,\n",
    "    x_col='image_path',\n",
    "    y_col='label',\n",
    "    target_size=(224,224), # the dimensions to which all images found will be resized\n",
    "    class_mode='raw', # numpy array of values in y_col column, need to use this if values in y_col are of type int\n",
    "    batch_size=64, # size of the batches of data\n",
    "    shuffle=True,\n",
    "    seed=SEED\n",
    ")"
   ]
  },
  {
   "cell_type": "markdown",
   "metadata": {
    "id": "OceSv9WSBCZA"
   },
   "source": [
    "##### *ImageDataGenerator for test data*"
   ]
  },
  {
   "cell_type": "code",
   "execution_count": 17,
   "metadata": {
    "colab": {
     "base_uri": "https://localhost:8080/"
    },
    "id": "nPmF7bhUUVSU",
    "outputId": "f88bfe28-fc5f-45d4-dbc4-28013fb42942"
   },
   "outputs": [
    {
     "name": "stdout",
     "output_type": "stream",
     "text": [
      "Found 3197 validated image filenames.\n"
     ]
    }
   ],
   "source": [
    "# create ImageDataGenerator object\n",
    "test_image_data_gen = ImageDataGenerator(\n",
    "    preprocessing_function=preprocess_input\n",
    ")\n",
    "\n",
    "# generate images\n",
    "test_data_gen = test_image_data_gen.flow_from_dataframe(\n",
    "    test_set,\n",
    "    x_col='image_path',\n",
    "    y_col='label',\n",
    "    target_size=(224,224), # the dimensions to which all images found will be resized\n",
    "    class_mode='raw', # numpy array of values in y_col column, need to use this if values in y_col are of type int\n",
    "    batch_size=64, # size of the batches of data\n",
    "    shuffle=False,\n",
    "    seed=SEED\n",
    ")"
   ]
  },
  {
   "cell_type": "markdown",
   "metadata": {
    "id": "-9P9A6zvZgZs"
   },
   "source": [
    "# CNN\n",
    "\n",
    "<p style='text-align: justify;'>CNNs (Convolutional Neural Networks) are a type of neural network commonly used for image classification and recognition tasks. They are designed to effectively capture spatial features in the input data by using convolutional layers that apply a set of filters to the input, followed by pooling layers that reduce the dimensionality of the output.</p>\n",
    "\n",
    "<p style='text-align: justify;'>One of the key advantages of CNNs is their ability to learn hierarchical representations of the input data, allowing them to capture complex relationships between features. This makes them particularly useful for tasks where there are multiple levels of abstraction in the input data.</p>\n",
    "\n",
    "## *Model Architecture*\n",
    "\n",
    "- *Input Layer*\n",
    "- *1 set of:*\n",
    "    - *Conv2D Layer*\n",
    "    - *Batch Normalization Layer*\n",
    "    - *MaxPool2D Layer*\n",
    "- *Flatten Layer*\n",
    "- *Dropout Layer*\n",
    "- *Dense Layer*\n",
    "- *Batch Normalization Layer*\n",
    "- *Dropout Layer*\n",
    "- *Output Dense Layer*\n",
    "\n",
    "## *Metrics*\n",
    "\n",
    "- *We will track the performance of our models using two metrics*\n",
    "- *In particular, we will use the `Loss` and `Accuracy`*\n",
    "\n",
    "##### *Define a function to build a custom CNN model*"
   ]
  },
  {
   "cell_type": "code",
   "execution_count": 18,
   "metadata": {
    "id": "x3_PoQXbZXMT"
   },
   "outputs": [],
   "source": [
    "def build_model(input_shape:tuple=(224,224,3),\n",
    "                learning_rate:float=1e-4,\n",
    "                conv_layers:int=1, # number of convolutional layers\n",
    "                conv_units:int=32, # number of neurons per convolutional layer\n",
    "                conv_activation:str='relu', # activation function for convolutional layers\n",
    "                hidden_dropout_prob:float=0.5, # dropout probability for neurons in hidden layers\n",
    "                hidden_units:int=256, # number of neurons per hidden layer\n",
    "                hidden_activation:str='relu', # activation function for hidden layers\n",
    "                output_activation:str='sigmoid', # activation function for output layer\n",
    "                metrics:list=['accuracy']\n",
    "               ):\n",
    "\n",
    "    # define the input layer\n",
    "    input = Input(\n",
    "            shape=input_shape, # input shape (number of features)\n",
    "            name='Input'\n",
    "    )\n",
    "    x = input\n",
    "    \n",
    "    # define the convolutional layers\n",
    "    for i in range(conv_layers):\n",
    "        \n",
    "        cnt = i # keep track of i\n",
    "        \n",
    "        # add conv2d layer\n",
    "        x = Conv2D(\n",
    "            filters=conv_units*(2**i),\n",
    "            kernel_size=(3,3),\n",
    "            strides=(1,1),\n",
    "            padding='same',\n",
    "            dilation_rate=(1,1),\n",
    "            activation=conv_activation,\n",
    "            name=f'Conv2D-{i+1}'\n",
    "        )(x)\n",
    "        \n",
    "        # add a batch normalization layer\n",
    "        x = BatchNormalization(\n",
    "            name=f'BatchNormalization-{i+1}'\n",
    "        )(x)\n",
    "        \n",
    "        # add max pooling layer\n",
    "        x = MaxPool2D(\n",
    "            pool_size=(2,2),\n",
    "            strides=(2,2),\n",
    "            padding='same',\n",
    "            name=f'MaxPool2D-{i+1}'\n",
    "        )(x)\n",
    "    \n",
    "    # flatten the convoled images\n",
    "    # so as to input them to a Dense Layer\n",
    "    x = Flatten(\n",
    "        name='Flatten'\n",
    "    )(x)\n",
    "    \n",
    "    # add dropout layer\n",
    "    x = Dropout(\n",
    "        rate=hidden_dropout_prob,\n",
    "        name=f'Dropout-1'\n",
    "    )(x)\n",
    "    \n",
    "    # add another dense layer\n",
    "    # before the output layer\n",
    "    x = Dense(\n",
    "        units=hidden_units,\n",
    "        kernel_initializer='glorot_uniform',\n",
    "        activation=hidden_activation,\n",
    "        name=f'Dense-1'\n",
    "    )(x)\n",
    "    \n",
    "    # add a batch normalization layer\n",
    "    x = BatchNormalization(\n",
    "        name=f'BatchNormalization-{cnt+2}'\n",
    "    )(x)\n",
    "    \n",
    "    # add dropout layer\n",
    "    x = Dropout(\n",
    "        rate=hidden_dropout_prob,\n",
    "        name=f'Dropout-2'\n",
    "    )(x)\n",
    "        \n",
    "    # define the output layer\n",
    "    output = Dense(\n",
    "             units=1, # predicted outcome\n",
    "             kernel_initializer='glorot_uniform',\n",
    "             activation=output_activation,\n",
    "             name='Output'\n",
    "    )(x)\n",
    "\n",
    "    # define the model\n",
    "    model = Model(inputs=input, outputs=output)\n",
    "    \n",
    "    # add L2 regularization to the convolutional and fully connected layers\n",
    "    l2_reg = l2(0.01)\n",
    "    for layer in model.layers:\n",
    "        if isinstance(layer, Conv2D) or isinstance(layer, Dense):\n",
    "            layer.kernel_regularizer = l2_reg\n",
    "            \n",
    "    # compile the model\n",
    "    model.compile(optimizer=Adam(learning_rate=learning_rate), loss='binary_crossentropy', metrics=metrics)\n",
    "    \n",
    "    return model"
   ]
  },
  {
   "cell_type": "markdown",
   "metadata": {
    "id": "lqBlXXPKGbUU"
   },
   "source": [
    "## *Callbacks*\n",
    "\n",
    "- *We will also use callbacks to gain a little more control over the training process*\n",
    "- *In particular, we will use two callbacks, `EarlyStopping` and `ReduceLROnPlateau`*\n",
    "- *`EarlyStopping` will help monitor the progress of the training and stop it in case there is no progress over a few epochs*\n",
    "- *`ReduceLROnPlateau` will monitor the progress of the training and change the learning rate in case there is no progress over a few epochs*\n",
    "\n",
    "##### *Define callbacks*"
   ]
  },
  {
   "cell_type": "code",
   "execution_count": 19,
   "metadata": {
    "id": "qK0L2dRpZaHw"
   },
   "outputs": [],
   "source": [
    "# define EarlyStopping callback\n",
    "early_stopping = EarlyStopping(\n",
    "    monitor='val_loss',\n",
    "    patience=10,\n",
    "    mode='min',\n",
    "    restore_best_weights=True,\n",
    "    verbose=1)\n",
    "\n",
    "# define ReduceLROnPlateau callback\n",
    "reduce_lr = ReduceLROnPlateau(\n",
    "    monitor='val_loss',\n",
    "    patience=5,\n",
    "    mode='min',\n",
    "    factor=0.1,\n",
    "    min_lr=1e-10,\n",
    "    verbose=1)\n",
    "\n",
    "# define callbacks\n",
    "CALLBACKS = [early_stopping, reduce_lr]"
   ]
  },
  {
   "cell_type": "markdown",
   "metadata": {
    "id": "hNSzHOi0GrEN"
   },
   "source": [
    "## *Model Training*\n",
    "\n",
    "- *In this step, we will train our model*\n",
    "- *We will use the CNN model architecture mentioned previously*\n",
    "- *Thus, we will define a function along with some default parameters to help us train the model*\n",
    "\n",
    "##### *Define a function to train the model*"
   ]
  },
  {
   "cell_type": "code",
   "execution_count": 22,
   "metadata": {
    "id": "7io4P-B6olj4"
   },
   "outputs": [],
   "source": [
    "def train_model(train_data,\n",
    "                valid_data,\n",
    "                input_shape:tuple=(224,224,3),\n",
    "                learning_rate:float=1e-4,\n",
    "                conv_layers:int=1, # number of convolutional layers\n",
    "                conv_units:int=32, # number of neurons per convolutional layer\n",
    "                conv_activation:str='relu', # activation function for convolutional layers\n",
    "                hidden_dropout_prob:float=0.5, # dropout probability for neurons in hidden layers\n",
    "                hidden_units:int=256, # number of neurons per hidden layer\n",
    "                hidden_activation:str='relu', # activation function for hidden layers\n",
    "                output_activation:str='softmax', # activation function for output layer\n",
    "                metrics:list=['accuracy'],\n",
    "                batch_size=128,\n",
    "                epochs=20,\n",
    "                verbose=1,\n",
    "                callbacks:list=None\n",
    "               ):\n",
    "    \n",
    "    # build the model\n",
    "    model = build_model(input_shape,\n",
    "                        learning_rate,\n",
    "                        conv_layers, # number of convolutional layers, if 0 then equal to LogReg\n",
    "                        conv_units, # number of neurons per convolutional layer\n",
    "                        conv_activation, # activation function for convolutional layers\n",
    "                        hidden_dropout_prob, # boolean to define whether to add dropout\n",
    "                        hidden_units, # number of neurons per hidden layer\n",
    "                        hidden_activation, # activation function for hidden layers\n",
    "                        output_activation, # activation function for output layer\n",
    "                        metrics\n",
    "                       )\n",
    "    \n",
    "    print('Started training.')\n",
    "    print('-----------------')\n",
    "    print()\n",
    "    \n",
    "    # train the model\n",
    "    hs = model.fit(x=train_data,\n",
    "                   batch_size=batch_size,\n",
    "                   epochs=epochs,\n",
    "                   verbose=verbose,\n",
    "                   callbacks=callbacks,\n",
    "                   validation_data=valid_data\n",
    "                  )\n",
    "    \n",
    "    print()\n",
    "    print('Finished training.')\n",
    "    print('------------------')\n",
    "    print()\n",
    "    \n",
    "    return model, hs"
   ]
  },
  {
   "cell_type": "markdown",
   "metadata": {
    "id": "tjU3nVkbavju"
   },
   "source": [
    "##### *Train the model*"
   ]
  },
  {
   "cell_type": "code",
   "execution_count": 23,
   "metadata": {
    "colab": {
     "base_uri": "https://localhost:8080/"
    },
    "id": "ZeRd7xjG8Xwq",
    "outputId": "5198db9c-209b-4865-b1f0-6e5bf383797c"
   },
   "outputs": [
    {
     "name": "stdout",
     "output_type": "stream",
     "text": [
      "Started training.\n",
      "-----------------\n",
      "\n",
      "Epoch 1/5\n",
      "461/461 [==============================] - 591s 1s/step - loss: 0.8320 - accuracy: 0.4041 - val_loss: 0.7104 - val_accuracy: 0.4041 - lr: 1.0000e-04\n",
      "Epoch 2/5\n",
      "461/461 [==============================] - 520s 1s/step - loss: 0.7771 - accuracy: 0.4041 - val_loss: 0.6448 - val_accuracy: 0.4041 - lr: 1.0000e-04\n",
      "Epoch 3/5\n",
      "461/461 [==============================] - 505s 1s/step - loss: 0.7560 - accuracy: 0.4041 - val_loss: 0.6639 - val_accuracy: 0.4041 - lr: 1.0000e-04\n",
      "Epoch 4/5\n",
      "461/461 [==============================] - 507s 1s/step - loss: 0.7342 - accuracy: 0.4041 - val_loss: 0.6558 - val_accuracy: 0.4041 - lr: 1.0000e-04\n",
      "Epoch 5/5\n",
      "461/461 [==============================] - 505s 1s/step - loss: 0.7311 - accuracy: 0.4041 - val_loss: 0.6486 - val_accuracy: 0.4041 - lr: 1.0000e-04\n",
      "\n",
      "Finished training.\n",
      "------------------\n",
      "\n",
      "Elapsed time: 2784 secs.\n"
     ]
    }
   ],
   "source": [
    "# start time\n",
    "st = time.time()\n",
    "\n",
    "# execute function to train the model\n",
    "cnn_model, cnn_hs = train_model(train_data=train_data_gen,\n",
    "                                valid_data=valid_data_gen,\n",
    "                                epochs=5,\n",
    "                                callbacks=CALLBACKS\n",
    "                               )\n",
    "\n",
    "# end time\n",
    "et = time.time()\n",
    "\n",
    "print(f'Elapsed time: {int(et-st)} secs.')"
   ]
  },
  {
   "cell_type": "markdown",
   "metadata": {
    "id": "9GjjISaSIHrh"
   },
   "source": [
    "##### *Preview model summary*"
   ]
  },
  {
   "cell_type": "code",
   "execution_count": 24,
   "metadata": {
    "colab": {
     "base_uri": "https://localhost:8080/"
    },
    "id": "W_fOi51snWia",
    "outputId": "813e73fc-1325-413c-a18b-0dd79937aea7"
   },
   "outputs": [
    {
     "name": "stdout",
     "output_type": "stream",
     "text": [
      "Model: \"model_1\"\n",
      "_________________________________________________________________\n",
      " Layer (type)                Output Shape              Param #   \n",
      "=================================================================\n",
      " Input (InputLayer)          [(None, 224, 224, 3)]     0         \n",
      "                                                                 \n",
      " Conv2D-1 (Conv2D)           (None, 224, 224, 32)      896       \n",
      "                                                                 \n",
      " BatchNormalization-1 (Batch  (None, 224, 224, 32)     128       \n",
      " Normalization)                                                  \n",
      "                                                                 \n",
      " MaxPool2D-1 (MaxPooling2D)  (None, 112, 112, 32)      0         \n",
      "                                                                 \n",
      " Flatten (Flatten)           (None, 401408)            0         \n",
      "                                                                 \n",
      " Dropout-1 (Dropout)         (None, 401408)            0         \n",
      "                                                                 \n",
      " Dense-1 (Dense)             (None, 256)               102760704 \n",
      "                                                                 \n",
      " BatchNormalization-2 (Batch  (None, 256)              1024      \n",
      " Normalization)                                                  \n",
      "                                                                 \n",
      " Dropout-2 (Dropout)         (None, 256)               0         \n",
      "                                                                 \n",
      " Output (Dense)              (None, 1)                 257       \n",
      "                                                                 \n",
      "=================================================================\n",
      "Total params: 102,763,009\n",
      "Trainable params: 102,762,433\n",
      "Non-trainable params: 576\n",
      "_________________________________________________________________\n"
     ]
    }
   ],
   "source": [
    "cnn_model.summary()"
   ]
  },
  {
   "cell_type": "code",
   "execution_count": 25,
   "metadata": {
    "colab": {
     "base_uri": "https://localhost:8080/",
     "height": 1000
    },
    "id": "BVVDDsLglC10",
    "outputId": "a9682b4a-7aa1-46e7-ad0e-b9007d1589f7"
   },
   "outputs": [
    {
     "data": {
      "image/png": "[encoded data removed]",
      "text/plain": [
       "<IPython.core.display.Image object>"
      ]
     },
     "execution_count": 25,
     "metadata": {},
     "output_type": "execute_result"
    }
   ],
   "source": [
    "plot_model(cnn_model, to_file='cnn_model.png', show_shapes=True, show_layer_names=True)"
   ]
  },
  {
   "cell_type": "markdown",
   "metadata": {
    "id": "_-yRzVPqIKQE"
   },
   "source": [
    "## *Model Evaluation*\n",
    "\n",
    "- *In this step, we will evaluate the performance of our model*\n",
    "- *In particular, we will evaluate its performance both during the training phase and making predictions*\n",
    "- *For this reason, we will create a function which will help us to plot the learning curves*\n",
    "\n",
    "##### *Define a function to plot learning curves*"
   ]
  },
  {
   "cell_type": "code",
   "execution_count": 26,
   "metadata": {
    "id": "vvcAnonvCL5E"
   },
   "outputs": [],
   "source": [
    "def plot_history(hs, epochs, metric):\n",
    "    print()\n",
    "    plt.style.use('dark_background')\n",
    "    plt.rcParams['figure.figsize'] = [15, 8]\n",
    "    plt.rcParams['font.size'] = 16\n",
    "    plt.clf()\n",
    "    for label in hs:\n",
    "        plt.plot(hs[label].history[metric], label='{0:s} train {1:s}'.format(label, metric), linewidth=2)\n",
    "        plt.plot(hs[label].history['val_{0:s}'.format(metric)], label='{0:s} validation {1:s}'.format(label, metric), linewidth=2)\n",
    "    x_ticks = np.arange(0, epochs + 1, epochs / 10)\n",
    "    x_ticks [0] += 1\n",
    "    plt.xticks(x_ticks)\n",
    "    plt.ylim((0, 1))\n",
    "    plt.xlabel('Epochs')\n",
    "    plt.ylabel('Loss' if metric=='loss' else 'Accuracy')\n",
    "    plt.legend()\n",
    "    plt.savefig(f'cnn_learning_curves_{metric}.svg')\n",
    "    plt.show()"
   ]
  },
  {
   "cell_type": "markdown",
   "metadata": {
    "id": "WgSCowIZCQqu"
   },
   "source": [
    "##### *Evaluation on training and validation data*"
   ]
  },
  {
   "cell_type": "code",
   "execution_count": 27,
   "metadata": {
    "id": "UMcZsRzOZOzh"
   },
   "outputs": [],
   "source": [
    "epochs=10"
   ]
  },
  {
   "cell_type": "code",
   "execution_count": 28,
   "metadata": {
    "colab": {
     "base_uri": "https://localhost:8080/",
     "height": 1000
    },
    "id": "XAj9W8f8CL1k",
    "outputId": "ad888e53-5473-462e-f7fb-f87e5497b18d"
   },
   "outputs": [
    {
     "name": "stdout",
     "output_type": "stream",
     "text": [
      "CNN History Results:\n",
      "---\n",
      "Train Loss     : 0.73107\n",
      "Validation Loss: 0.64861\n",
      "---\n",
      "Train Accuracy     : 0.40406\n",
      "Validation Accuracy: 0.40410\n",
      "\n"
     ]
    },
    {
     "data": {
      "image/png": "[encoded data removed]",
      "text/plain": [
       "<Figure size 1080x576 with 1 Axes>"
      ]
     },
     "metadata": {},
     "output_type": "display_data"
    },
    {
     "name": "stdout",
     "output_type": "stream",
     "text": [
      "\n"
     ]
    },
    {
     "data": {
      "image/png": "[encoded data removed]",
      "text/plain": [
       "<Figure size 1080x576 with 1 Axes>"
      ]
     },
     "metadata": {},
     "output_type": "display_data"
    }
   ],
   "source": [
    "print(\"CNN History Results:\")\n",
    "print(\"---\")\n",
    "print(\"Train Loss     : {0:.5f}\".format(cnn_hs.history['loss'][-1]))\n",
    "print(\"Validation Loss: {0:.5f}\".format(cnn_hs.history['val_loss'][-1]))\n",
    "print(\"---\")\n",
    "print(\"Train Accuracy     : {0:.5f}\".format(cnn_hs.history['accuracy'][-1]))\n",
    "print(\"Validation Accuracy: {0:.5f}\".format(cnn_hs.history['val_accuracy'][-1]))\n",
    "\n",
    "# plot train and validation error per epoch\n",
    "plot_history(hs={'CNN': cnn_hs}, epochs=epochs, metric='loss')\n",
    "plot_history(hs={'CNN': cnn_hs}, epochs=epochs, metric='accuracy')"
   ]
  },
  {
   "cell_type": "markdown",
   "metadata": {
    "id": "pKKw48MSINGh"
   },
   "source": [
    "##### *Evaluation on test data*"
   ]
  },
  {
   "cell_type": "code",
   "execution_count": 29,
   "metadata": {
    "colab": {
     "base_uri": "https://localhost:8080/"
    },
    "id": "KAavWci1pZnG",
    "outputId": "c782538e-dea9-4443-b0f1-fc4479556f14"
   },
   "outputs": [
    {
     "name": "stdout",
     "output_type": "stream",
     "text": [
      "50/50 - 20s - loss: 0.6671 - accuracy: 0.4786 - 20s/epoch - 391ms/step\n",
      "\n",
      "Test Loss         : 0.66706\n",
      "Test Accuracy     : 0.47857\n"
     ]
    }
   ],
   "source": [
    "# evaluate on test data\n",
    "model_eval = cnn_model.evaluate(test_data_gen, verbose=2)\n",
    "\n",
    "# print results\n",
    "print()\n",
    "print(\"Test Loss         : {0:.5f}\".format(model_eval[0]))\n",
    "print(\"Test Accuracy     : {0:.5f}\".format(model_eval[1]))"
   ]
  },
  {
   "cell_type": "markdown",
   "metadata": {
    "id": "amV_HmDVIQXQ"
   },
   "source": [
    "##### *Evaluation On Each Study Type*"
   ]
  },
  {
   "cell_type": "code",
   "execution_count": 30,
   "metadata": {
    "colab": {
     "base_uri": "https://localhost:8080/"
    },
    "id": "jT3iZBbRPv1Q",
    "outputId": "9d2f0e2f-9129-4c08-8a26-dc64f125cf93"
   },
   "outputs": [
    {
     "name": "stdout",
     "output_type": "stream",
     "text": [
      "50/50 [==============================] - 16s 316ms/step\n"
     ]
    }
   ],
   "source": [
    "# make predictions\n",
    "predictions = cnn_model.predict(test_data_gen)"
   ]
  },
  {
   "cell_type": "markdown",
   "metadata": {
    "id": "FUrR29n6C-dX"
   },
   "source": [
    "##### *Define a function to evaluate the predictions for each study type*"
   ]
  },
  {
   "cell_type": "code",
   "execution_count": 31,
   "metadata": {
    "id": "AbBinlFVqvrv"
   },
   "outputs": [],
   "source": [
    "def evaluate_each_study_type(test_set, predictions):\n",
    "\n",
    "    # append predictions to the test set\n",
    "    test_set['predictions'] = predictions.ravel()\n",
    "    test_set['predictions'] = np.where(test_set.predictions >= 0.5,1,0)\n",
    "\n",
    "    # list of distinct study types\n",
    "    study_types = sorted(test_set['type'].unique().tolist())\n",
    "\n",
    "    # loop through study types\n",
    "    for i, st in enumerate(study_types):\n",
    "\n",
    "        # keep records of the current study type\n",
    "        df_t = test_set[test_set['type']==st]\n",
    "\n",
    "        # evaluate model performance on the current study type\n",
    "        precision = precision_score(df_t.label.values, df_t.predictions.values)\n",
    "        recall = recall_score(df_t.label.values, df_t.predictions.values)\n",
    "        f1_score = 2 * (precision * recall) / (precision + recall)\n",
    "        accuracy = accuracy_score(df_t.label.values, df_t.predictions.values)\n",
    "        roc_auc = roc_auc_score(df_t.label.values, df_t.predictions.values)\n",
    "        cohen_kappa = cohen_kappa_score(df_t.label.values, df_t.predictions.values)\n",
    "\n",
    "        # print results\n",
    "        print(f\"{i+1} - Study Type: {st}\")\n",
    "        print(\"------------------------\")\n",
    "        print(f\"    Precision: {round(precision,5)}\")\n",
    "        print(f\"       Recall: {round(recall,5)}\")\n",
    "        print(f\"     F1 Score: {round(f1_score,5)}\")\n",
    "        print(f\"     Accuracy: {round(accuracy,5)}\")\n",
    "        print(f\"      ROC AUC: {round(roc_auc,5)}\")\n",
    "        print(f\"Cohen's Kappa: {round(cohen_kappa,5)}\")\n",
    "        print(\"========================\")\n",
    "        print()"
   ]
  },
  {
   "cell_type": "code",
   "execution_count": 32,
   "metadata": {
    "colab": {
     "base_uri": "https://localhost:8080/"
    },
    "id": "rg3kZkr3I5zj",
    "outputId": "ba608db1-af06-4ca0-cd98-735f86d4d0fb"
   },
   "outputs": [
    {
     "name": "stdout",
     "output_type": "stream",
     "text": [
      "1 - Study Type: ELBOW\n",
      "------------------------\n",
      "    Precision: 0.49462\n",
      "       Recall: 1.0\n",
      "     F1 Score: 0.66187\n",
      "     Accuracy: 0.49462\n",
      "      ROC AUC: 0.5\n",
      "Cohen's Kappa: 0.0\n",
      "========================\n",
      "\n",
      "2 - Study Type: FINGER\n",
      "------------------------\n",
      "    Precision: 0.53579\n",
      "       Recall: 1.0\n",
      "     F1 Score: 0.69774\n",
      "     Accuracy: 0.53579\n",
      "      ROC AUC: 0.5\n",
      "Cohen's Kappa: 0.0\n",
      "========================\n",
      "\n",
      "3 - Study Type: FOREARM\n",
      "------------------------\n",
      "    Precision: 0.50166\n",
      "       Recall: 1.0\n",
      "     F1 Score: 0.66814\n",
      "     Accuracy: 0.50166\n",
      "      ROC AUC: 0.5\n",
      "Cohen's Kappa: 0.0\n",
      "========================\n",
      "\n",
      "4 - Study Type: HAND\n",
      "------------------------\n",
      "    Precision: 0.41087\n",
      "       Recall: 1.0\n",
      "     F1 Score: 0.58243\n",
      "     Accuracy: 0.41087\n",
      "      ROC AUC: 0.5\n",
      "Cohen's Kappa: 0.0\n",
      "========================\n",
      "\n",
      "5 - Study Type: HUMERUS\n",
      "------------------------\n",
      "    Precision: 0.48611\n",
      "       Recall: 1.0\n",
      "     F1 Score: 0.65421\n",
      "     Accuracy: 0.48611\n",
      "      ROC AUC: 0.5\n",
      "Cohen's Kappa: 0.0\n",
      "========================\n",
      "\n",
      "6 - Study Type: SHOULDER\n",
      "------------------------\n",
      "    Precision: 0.49378\n",
      "       Recall: 1.0\n",
      "     F1 Score: 0.66112\n",
      "     Accuracy: 0.49378\n",
      "      ROC AUC: 0.5\n",
      "Cohen's Kappa: 0.0\n",
      "========================\n",
      "\n",
      "7 - Study Type: WRIST\n",
      "------------------------\n",
      "    Precision: 0.44765\n",
      "       Recall: 1.0\n",
      "     F1 Score: 0.61845\n",
      "     Accuracy: 0.44765\n",
      "      ROC AUC: 0.5\n",
      "Cohen's Kappa: 0.0\n",
      "========================\n",
      "\n"
     ]
    }
   ],
   "source": [
    "evaluate_each_study_type(test_set, predictions)"
   ]
  },
  {
   "cell_type": "markdown",
   "metadata": {
    "id": "5KkOc57KimqX"
   },
   "source": [
    "---\n",
    "\n",
    "*Thank you!*\n",
    "\n",
    "---"
   ]
  }
 ],
 "metadata": {
  "accelerator": "GPU",
  "colab": {
   "provenance": []
  },
  "gpuClass": "standard",
  "kernelspec": {
   "display_name": "Python 3 (ipykernel)",
   "language": "python",
   "name": "python3"
  },
  "language_info": {
   "codemirror_mode": {
    "name": "ipython",
    "version": 3
   },
   "file_extension": ".py",
   "mimetype": "text/x-python",
   "name": "python",
   "nbconvert_exporter": "python",
   "pygments_lexer": "ipython3",
   "version": "3.8.13"
  }
 },
 "nbformat": 4,
 "nbformat_minor": 1
}
